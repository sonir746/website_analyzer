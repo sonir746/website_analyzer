{
 "cells": [
  {
   "cell_type": "markdown",
   "metadata": {},
   "source": [
    "PRE-REQUIREMENTS\n",
    " {run only ones for setup}"
   ]
  },
  {
   "cell_type": "markdown",
   "metadata": {},
   "source": [
    "uncomment blow cell and run it"
   ]
  },
  {
   "cell_type": "code",
   "execution_count": 1,
   "metadata": {},
   "outputs": [],
   "source": [
    "# !pip install ultralytics\n",
    "# !pip install pyttsx3"
   ]
  },
  {
   "cell_type": "markdown",
   "metadata": {},
   "source": [
    "If you want to work with GPU also run blow cell (before run uncomment it) this file may be 2.5GB or more"
   ]
  },
  {
   "cell_type": "code",
   "execution_count": 2,
   "metadata": {},
   "outputs": [],
   "source": [
    "# !conda install pytorch torchvision torchaudio pytorch-cuda=11.8 -c pytorch -c nvidia"
   ]
  },
  {
   "cell_type": "markdown",
   "metadata": {},
   "source": [
    "MAIN CODE"
   ]
  },
  {
   "cell_type": "code",
   "execution_count": 2,
   "metadata": {},
   "outputs": [
    {
     "name": "stdout",
     "output_type": "stream",
     "text": [
      "\n",
      "0: 224x224 1 logo, 3.6ms\n",
      "1: 224x224 1 text, 6 buttonss, 1 logo, 2 input fieldss, 3.6ms\n",
      "2: 224x224 1 text, 6 buttonss, 1 logo, 3 input fieldss, 1 links, 3.6ms\n",
      "3: 224x224 2 texts, 6 buttonss, 2 imagess, 1 input fields, 1 navigations dots, 3.6ms\n",
      "Speed: 0.0ms preprocess, 3.6ms inference, 0.0ms postprocess per image at shape (1, 3, 224, 224)\n",
      "Results saved to \u001b[1mruns\\detect\\predict7\u001b[0m\n",
      "\n",
      "0: 224x224 1 logo, 2.6ms\n",
      "1: 224x224 1 text, 6 buttonss, 1 logo, 2 input fieldss, 2.6ms\n",
      "2: 224x224 1 text, 6 buttonss, 1 logo, 3 input fieldss, 1 links, 2.6ms\n",
      "3: 224x224 2 texts, 6 buttonss, 2 imagess, 1 input fields, 1 navigations dots, 2.6ms\n",
      "Speed: 2.0ms preprocess, 2.6ms inference, 0.0ms postprocess per image at shape (1, 3, 224, 224)\n",
      "Results saved to \u001b[1mruns\\detect\\predict7\u001b[0m\n",
      "\n",
      "0: 224x224 1 logo, 15.0ms\n",
      "1: 224x224 1 text, 6 buttonss, 1 logo, 2 input fieldss, 15.0ms\n",
      "2: 224x224 1 text, 6 buttonss, 1 logo, 3 input fieldss, 1 links, 15.0ms\n",
      "3: 224x224 2 texts, 6 buttonss, 2 imagess, 1 input fields, 1 navigations dots, 15.0ms\n",
      "Speed: 0.5ms preprocess, 15.0ms inference, 3.2ms postprocess per image at shape (1, 3, 224, 224)\n",
      "Results saved to \u001b[1mruns\\detect\\predict7\u001b[0m\n",
      "\n",
      "0: 224x224 1 logo, 31.0ms\n",
      "1: 224x224 1 text, 6 buttonss, 1 logo, 2 input fieldss, 31.0ms\n",
      "2: 224x224 1 text, 6 buttonss, 1 logo, 3 input fieldss, 1 links, 31.0ms\n",
      "3: 224x224 2 texts, 6 buttonss, 2 imagess, 1 input fields, 1 navigations dots, 31.0ms\n",
      "Speed: 0.0ms preprocess, 31.0ms inference, 0.0ms postprocess per image at shape (1, 3, 224, 224)\n",
      "Results saved to \u001b[1mruns\\detect\\predict7\u001b[0m\n",
      "\n",
      "0: 224x224 1 logo, 2.6ms\n",
      "1: 224x224 1 text, 6 buttonss, 1 logo, 2 input fieldss, 2.6ms\n",
      "2: 224x224 1 text, 6 buttonss, 1 logo, 3 input fieldss, 1 links, 2.6ms\n",
      "3: 224x224 2 texts, 6 buttonss, 2 imagess, 1 input fields, 1 navigations dots, 2.6ms\n",
      "Speed: 0.0ms preprocess, 2.6ms inference, 1.5ms postprocess per image at shape (1, 3, 224, 224)\n",
      "Results saved to \u001b[1mruns\\detect\\predict7\u001b[0m\n"
     ]
    }
   ],
   "source": [
    "import cv2\n",
    "import torch\n",
    "from ultralytics import YOLO\n",
    "\n",
    "# give the path of model \n",
    "model = YOLO('best.pt') \n",
    "\n",
    "while True: \n",
    "    \n",
    "    results = model.predict(source=['1.png','2.png','3.png','4.png'],save=True, show=True, device = torch.device('cuda' if torch.cuda.is_available() else 'cpu')) \n",
    "    \n",
    "    #press ESC or 'q' or 'Q' for exit\n",
    "    if cv2.waitKey(1)==ord(\"q\") or cv2.waitKey(1)==ord(\"Q\") or cv2.waitKey(1)==27:\n",
    "        break\n",
    "cv2.destroyAllWindows() "
   ]
  },
  {
   "cell_type": "code",
   "execution_count": 2,
   "metadata": {},
   "outputs": [],
   "source": [
    "# !pip list > requirement.txt"
   ]
  }
 ],
 "metadata": {
  "kernelspec": {
   "display_name": "Python 3 (ipykernel)",
   "language": "python",
   "name": "python3"
  },
  "language_info": {
   "codemirror_mode": {
    "name": "ipython",
    "version": 3
   },
   "file_extension": ".py",
   "mimetype": "text/x-python",
   "name": "python",
   "nbconvert_exporter": "python",
   "pygments_lexer": "ipython3",
   "version": "3.10.14"
  }
 },
 "nbformat": 4,
 "nbformat_minor": 4
}
